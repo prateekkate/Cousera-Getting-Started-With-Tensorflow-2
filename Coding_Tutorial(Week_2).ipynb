{
  "nbformat": 4,
  "nbformat_minor": 0,
  "metadata": {
    "kernelspec": {
      "display_name": "Python 3",
      "language": "python",
      "name": "python3"
    },
    "language_info": {
      "codemirror_mode": {
        "name": "ipython",
        "version": 3
      },
      "file_extension": ".py",
      "mimetype": "text/x-python",
      "name": "python",
      "nbconvert_exporter": "python",
      "pygments_lexer": "ipython3",
      "version": "3.7.1"
    },
    "colab": {
      "name": "Coding Tutorial(Week 2).ipynb",
      "provenance": [],
      "include_colab_link": true
    }
  },
  "cells": [
    {
      "cell_type": "markdown",
      "metadata": {
        "id": "view-in-github",
        "colab_type": "text"
      },
      "source": [
        "<a href=\"https://colab.research.google.com/github/prateekkate/Cousera-Getting-Started-With-Tensorflow-2/blob/main/Coding_Tutorial(Week_2).ipynb\" target=\"_parent\"><img src=\"https://colab.research.google.com/assets/colab-badge.svg\" alt=\"Open In Colab\"/></a>"
      ]
    },
    {
      "cell_type": "code",
      "metadata": {
        "id": "Xh9NKoU13Ez2",
        "colab": {
          "base_uri": "https://localhost:8080/"
        },
        "outputId": "8eee339b-3c4e-4f8b-9f5e-ec4e636b49ce"
      },
      "source": [
        "import tensorflow as tf\n",
        "print(tf.__version__)"
      ],
      "execution_count": null,
      "outputs": [
        {
          "output_type": "stream",
          "text": [
            "2.5.0\n"
          ],
          "name": "stdout"
        }
      ]
    },
    {
      "cell_type": "markdown",
      "metadata": {
        "id": "BS38lvTS3Ez7"
      },
      "source": [
        "# The Sequential model API"
      ]
    },
    {
      "cell_type": "markdown",
      "metadata": {
        "id": "TYmRIkZx3Ez9"
      },
      "source": [
        " ## Coding tutorials\n",
        " #### [1. Building a Sequential model](#coding_tutorial_1)\n",
        " #### [2. Convolutional and pooling layers](#coding_tutorial_2)\n",
        " #### [3. The compile method](#coding_tutorial_3)\n",
        " #### [4. The fit method](#coding_tutorial_4)\n",
        " #### [5. The evaluate and predict methods](#coding_tutorial_5)"
      ]
    },
    {
      "cell_type": "markdown",
      "metadata": {
        "id": "TajyQOdl3Ez-"
      },
      "source": [
        "***\n",
        "<a id=\"coding_tutorial_1\"></a>\n",
        "## Building a Sequential model"
      ]
    },
    {
      "cell_type": "code",
      "metadata": {
        "id": "7YyjIO4A3Ez_"
      },
      "source": [
        "from tensorflow.keras.models import Sequential\n",
        "from tensorflow.keras.layers import Dense, Flatten, Softmax"
      ],
      "execution_count": null,
      "outputs": []
    },
    {
      "cell_type": "markdown",
      "metadata": {
        "id": "YOzbWJ0q3E0A"
      },
      "source": [
        "#### Build a feedforward neural network model"
      ]
    },
    {
      "cell_type": "code",
      "metadata": {
        "id": "V4MHclg53E0C"
      },
      "source": [
        "# Build the Sequential feedforward neural network model\n",
        "\n",
        "model = Sequential([\n",
        "                    Flatten(input_shape=(28,28)),\n",
        "                    Dense(16,activation='relu'),\n",
        "                    Dense(16,activation='relu'),\n",
        "                    Dense(10,activation='softmax')\n",
        "                  ])"
      ],
      "execution_count": null,
      "outputs": []
    },
    {
      "cell_type": "code",
      "metadata": {
        "id": "NQ_uFR0H4TlJ",
        "colab": {
          "base_uri": "https://localhost:8080/"
        },
        "outputId": "38870d51-b383-4781-ab90-963ba015416d"
      },
      "source": [
        "#print model weights\n",
        "#It will give you error if you dont give input shape to the model\n",
        "model.weights"
      ],
      "execution_count": null,
      "outputs": [
        {
          "output_type": "execute_result",
          "data": {
            "text/plain": [
              "[<tf.Variable 'dense_3/kernel:0' shape=(784, 16) dtype=float32, numpy=\n",
              " array([[ 0.08291605,  0.06849572, -0.01110332, ...,  0.05549654,\n",
              "          0.03365374,  0.0725356 ],\n",
              "        [ 0.04623383, -0.00356882,  0.0543382 , ...,  0.02801197,\n",
              "          0.06844513,  0.0351579 ],\n",
              "        [ 0.01427946, -0.01232867,  0.00876231, ..., -0.08237679,\n",
              "          0.08506338,  0.00132287],\n",
              "        ...,\n",
              "        [-0.02140495,  0.05917989, -0.0469724 , ..., -0.06370935,\n",
              "          0.02745281,  0.01798052],\n",
              "        [-0.0723028 ,  0.00720228,  0.05241223, ..., -0.02419218,\n",
              "         -0.03228645, -0.02156189],\n",
              "        [ 0.05785361, -0.06364468, -0.0751862 , ...,  0.0770584 ,\n",
              "          0.06511983, -0.03980104]], dtype=float32)>,\n",
              " <tf.Variable 'dense_3/bias:0' shape=(16,) dtype=float32, numpy=\n",
              " array([0., 0., 0., 0., 0., 0., 0., 0., 0., 0., 0., 0., 0., 0., 0., 0.],\n",
              "       dtype=float32)>,\n",
              " <tf.Variable 'dense_4/kernel:0' shape=(16, 16) dtype=float32, numpy=\n",
              " array([[ 0.09355083, -0.19125044,  0.06328082, -0.06661615,  0.3712282 ,\n",
              "         -0.41171783, -0.34285986,  0.40728644,  0.05369732,  0.41588327,\n",
              "         -0.27708027, -0.17315969, -0.33378184, -0.05905622, -0.4272292 ,\n",
              "          0.30447146],\n",
              "        [ 0.29760125,  0.3174875 ,  0.05115509,  0.29061535, -0.0901835 ,\n",
              "         -0.25936118,  0.30581418,  0.25563332,  0.19817278,  0.03797609,\n",
              "          0.31036964,  0.41332957,  0.01253262, -0.38046524,  0.1625376 ,\n",
              "         -0.35294026],\n",
              "        [-0.27052876,  0.32120904, -0.2140118 , -0.23529468, -0.00415006,\n",
              "         -0.12176189, -0.23432176, -0.2584797 , -0.25352448, -0.30404776,\n",
              "         -0.11759025,  0.29530326,  0.10851839,  0.345439  , -0.3239646 ,\n",
              "          0.07199237],\n",
              "        [ 0.13996395, -0.2510766 , -0.23144224,  0.324774  ,  0.1603978 ,\n",
              "         -0.11093098, -0.28879803,  0.0821335 , -0.08295465,  0.34656015,\n",
              "          0.03473058,  0.39175   , -0.01326314,  0.17524263,  0.2673454 ,\n",
              "          0.21313974],\n",
              "        [-0.04655209,  0.2910321 , -0.3677469 , -0.23028958, -0.04645732,\n",
              "          0.21795449,  0.25568953,  0.01590437, -0.1676192 , -0.32719338,\n",
              "         -0.27274075,  0.09762946, -0.11124751, -0.20557785,  0.15640762,\n",
              "          0.2677869 ],\n",
              "        [-0.12257716,  0.36054912,  0.02762273,  0.28308108,  0.19399205,\n",
              "          0.11873713,  0.42450908, -0.09666714,  0.19928321,  0.24998876,\n",
              "          0.2756342 , -0.06743121, -0.3802249 ,  0.15839598,  0.33776084,\n",
              "         -0.24813297],\n",
              "        [-0.27826202, -0.31612322, -0.21592543, -0.20153226, -0.29303285,\n",
              "         -0.18184772,  0.15416738, -0.26415688, -0.04823396,  0.37982187,\n",
              "          0.2683337 , -0.08313128,  0.20017025,  0.20179352,  0.0489718 ,\n",
              "         -0.3492558 ],\n",
              "        [-0.0967738 , -0.11339051, -0.35094053, -0.27711308, -0.00563309,\n",
              "          0.02761438, -0.18840407, -0.291686  ,  0.23051259, -0.390841  ,\n",
              "          0.27387276, -0.30156994, -0.12897071,  0.15845528, -0.04606533,\n",
              "          0.41663465],\n",
              "        [ 0.3362644 ,  0.13037881, -0.23083933,  0.3557566 , -0.07677406,\n",
              "          0.00835651,  0.21229443,  0.28272906,  0.28642675, -0.0266428 ,\n",
              "         -0.11446905,  0.10408577, -0.14953598,  0.20831904, -0.27490288,\n",
              "         -0.37512493],\n",
              "        [-0.24024424, -0.22540827, -0.1956514 ,  0.08621058, -0.12291259,\n",
              "         -0.35018483, -0.2285237 ,  0.04426485, -0.01030895, -0.19483621,\n",
              "          0.3626466 ,  0.3087171 ,  0.40731677,  0.34454194,  0.1762208 ,\n",
              "         -0.4162662 ],\n",
              "        [-0.08068112,  0.38444725, -0.2639628 , -0.29581997, -0.3601015 ,\n",
              "         -0.14915091,  0.3918971 , -0.17245674, -0.2753697 , -0.22261083,\n",
              "         -0.36027607, -0.08419392,  0.21875134,  0.28993663,  0.08312497,\n",
              "          0.32224175],\n",
              "        [-0.09330222,  0.3115892 ,  0.00881457,  0.13386413, -0.20486602,\n",
              "         -0.25939122,  0.23865291,  0.3252087 ,  0.03968313, -0.07143873,\n",
              "          0.03467134, -0.12203136, -0.15840086,  0.19319466,  0.3168842 ,\n",
              "         -0.2872324 ],\n",
              "        [-0.1381579 ,  0.22578552, -0.2523514 , -0.09155738,  0.01193735,\n",
              "          0.20895573,  0.2573891 , -0.05052543, -0.05448017,  0.2755759 ,\n",
              "          0.06033069, -0.10425991, -0.42787877,  0.18788776,  0.12622306,\n",
              "         -0.2547174 ],\n",
              "        [ 0.37612882,  0.17351833,  0.21364078,  0.15601388,  0.33018675,\n",
              "          0.25850233, -0.11135393, -0.14248121,  0.40904096,  0.28974113,\n",
              "         -0.05408311, -0.14763507, -0.06544614,  0.18415365,  0.20191154,\n",
              "          0.04911706],\n",
              "        [-0.00975046, -0.2116717 ,  0.27297333, -0.19864282,  0.28641298,\n",
              "          0.38057294, -0.30984798, -0.03458956, -0.15552339, -0.17141083,\n",
              "          0.4229764 , -0.19459166, -0.36985636,  0.1514692 ,  0.14600691,\n",
              "         -0.16288471],\n",
              "        [-0.40194705, -0.28766757, -0.08663714,  0.0183821 , -0.07670677,\n",
              "         -0.21008895, -0.05152932,  0.02587378,  0.2586768 ,  0.30872652,\n",
              "         -0.1526793 , -0.13548228, -0.19611968, -0.24464208, -0.09180948,\n",
              "         -0.20588261]], dtype=float32)>,\n",
              " <tf.Variable 'dense_4/bias:0' shape=(16,) dtype=float32, numpy=\n",
              " array([0., 0., 0., 0., 0., 0., 0., 0., 0., 0., 0., 0., 0., 0., 0., 0.],\n",
              "       dtype=float32)>,\n",
              " <tf.Variable 'dense_5/kernel:0' shape=(16, 10) dtype=float32, numpy=\n",
              " array([[ 0.14799154,  0.01495224, -0.11552536, -0.20268625,  0.01920551,\n",
              "         -0.10310405,  0.30810523,  0.01875126,  0.01666084,  0.4758497 ],\n",
              "        [ 0.06667596, -0.45435315,  0.25724465, -0.46434373,  0.17496854,\n",
              "         -0.17731383, -0.38926762, -0.17222139, -0.04885295,  0.06070477],\n",
              "        [-0.02705145,  0.4153611 , -0.13021186,  0.3778755 , -0.06034711,\n",
              "         -0.06252253, -0.42448008, -0.45551646,  0.3862316 ,  0.25792795],\n",
              "        [ 0.3410588 , -0.46198893,  0.23227322,  0.03251743, -0.05933705,\n",
              "         -0.18839568, -0.26706433,  0.13525921,  0.08888495, -0.2669474 ],\n",
              "        [-0.18584436, -0.46525517,  0.06785136,  0.12764096,  0.2717588 ,\n",
              "         -0.22470066,  0.04646218,  0.15082717,  0.25259095, -0.22574979],\n",
              "        [-0.39207482, -0.28081453, -0.12754485, -0.22732082,  0.20806253,\n",
              "         -0.20933887,  0.40039527, -0.31882653, -0.44167063, -0.27370745],\n",
              "        [ 0.20301348,  0.16837561, -0.33342507, -0.19900656, -0.3079527 ,\n",
              "         -0.07094184,  0.24222302,  0.22695446,  0.17000848,  0.30864483],\n",
              "        [ 0.09155566, -0.18975174, -0.02231106,  0.07309598,  0.07023942,\n",
              "         -0.36867124, -0.18786481,  0.41011554, -0.21666667, -0.19124478],\n",
              "        [-0.40822893,  0.03490406, -0.06859836,  0.28904063,  0.25188428,\n",
              "         -0.44181746, -0.30691844, -0.08340389,  0.41386783,  0.3019995 ],\n",
              "        [ 0.34999758,  0.31176984, -0.2591917 ,  0.39894766,  0.12453324,\n",
              "          0.3724476 , -0.07712716,  0.23550075,  0.28836155,  0.40394425],\n",
              "        [-0.24086374, -0.08669302, -0.03561598,  0.10640842,  0.47426248,\n",
              "          0.4776436 , -0.14921075, -0.20689705, -0.27935988, -0.04493639],\n",
              "        [ 0.36909246, -0.11547381, -0.17637959, -0.28870103, -0.16416562,\n",
              "          0.1688745 , -0.05234024,  0.16456681, -0.32607126, -0.16713947],\n",
              "        [ 0.4014989 , -0.01365584,  0.36489153,  0.40345728,  0.02011591,\n",
              "         -0.02744374,  0.25657976,  0.19044626,  0.24327809,  0.13321972],\n",
              "        [ 0.21359527, -0.22686923,  0.3439576 ,  0.4433719 ,  0.23705679,\n",
              "          0.24832624,  0.41092455,  0.37230188, -0.3781826 ,  0.17993367],\n",
              "        [ 0.22173643,  0.36557394,  0.4006021 ,  0.25391132, -0.35513037,\n",
              "         -0.24225576,  0.05111039, -0.3473739 , -0.34741855, -0.43053532],\n",
              "        [-0.04648271, -0.34226632, -0.07294351,  0.47177047,  0.47116125,\n",
              "         -0.0766184 , -0.10583439,  0.05999547,  0.27365726,  0.33557612]],\n",
              "       dtype=float32)>,\n",
              " <tf.Variable 'dense_5/bias:0' shape=(10,) dtype=float32, numpy=array([0., 0., 0., 0., 0., 0., 0., 0., 0., 0.], dtype=float32)>]"
            ]
          },
          "metadata": {
            "tags": []
          },
          "execution_count": 8
        }
      ]
    },
    {
      "cell_type": "code",
      "metadata": {
        "id": "ARRVZ2up3E0D",
        "colab": {
          "base_uri": "https://localhost:8080/"
        },
        "outputId": "9e0afc90-d2aa-4105-df11-fd28d26034b0"
      },
      "source": [
        "# Print the model summary\n",
        "\n",
        "model.summary()"
      ],
      "execution_count": null,
      "outputs": [
        {
          "output_type": "stream",
          "text": [
            "Model: \"sequential_1\"\n",
            "_________________________________________________________________\n",
            "Layer (type)                 Output Shape              Param #   \n",
            "=================================================================\n",
            "flatten (Flatten)            (None, 784)               0         \n",
            "_________________________________________________________________\n",
            "dense_3 (Dense)              (None, 16)                12560     \n",
            "_________________________________________________________________\n",
            "dense_4 (Dense)              (None, 16)                272       \n",
            "_________________________________________________________________\n",
            "dense_5 (Dense)              (None, 10)                170       \n",
            "=================================================================\n",
            "Total params: 13,002\n",
            "Trainable params: 13,002\n",
            "Non-trainable params: 0\n",
            "_________________________________________________________________\n"
          ],
          "name": "stdout"
        }
      ]
    },
    {
      "cell_type": "markdown",
      "metadata": {
        "id": "hpM4ihU63E0E"
      },
      "source": [
        "***\n",
        "<a id=\"coding_tutorial_2\"></a>\n",
        "## Convolutional and pooling layers"
      ]
    },
    {
      "cell_type": "code",
      "metadata": {
        "id": "iG5nRKFV3E0F"
      },
      "source": [
        "from tensorflow.keras.models import Sequential\n",
        "from tensorflow.keras.layers import Dense, Flatten, Conv2D, MaxPooling2D"
      ],
      "execution_count": null,
      "outputs": []
    },
    {
      "cell_type": "markdown",
      "metadata": {
        "id": "WuIEzvtW3E0H"
      },
      "source": [
        "#### Build a convolutional neural network model"
      ]
    },
    {
      "cell_type": "code",
      "metadata": {
        "id": "WMkaKvBN3E0I"
      },
      "source": [
        "# Build the Sequential convolutional neural network model\n",
        "model = Sequential([\n",
        "                    Conv2D(16, kernel_size=3, activation='relu', input_shape=(28,28,1), data_format='channels_last'),\n",
        "                    MaxPooling2D(pool_size=3),\n",
        "                    Flatten(),\n",
        "                    Dense(16,activation='relu'),\n",
        "                    Dense(10,activation='softmax')\n",
        "                  ])\n"
      ],
      "execution_count": null,
      "outputs": []
    },
    {
      "cell_type": "code",
      "metadata": {
        "id": "BOHPf4Mj3E0I",
        "colab": {
          "base_uri": "https://localhost:8080/"
        },
        "outputId": "f845a65f-37f9-4e73-bccd-550fd8fad397"
      },
      "source": [
        "# Print the model summary\n",
        "model.summary()\n"
      ],
      "execution_count": null,
      "outputs": [
        {
          "output_type": "stream",
          "text": [
            "Model: \"sequential_3\"\n",
            "_________________________________________________________________\n",
            "Layer (type)                 Output Shape              Param #   \n",
            "=================================================================\n",
            "conv2d_1 (Conv2D)            (None, 26, 26, 16)        160       \n",
            "_________________________________________________________________\n",
            "max_pooling2d_1 (MaxPooling2 (None, 8, 8, 16)          0         \n",
            "_________________________________________________________________\n",
            "flatten_2 (Flatten)          (None, 1024)              0         \n",
            "_________________________________________________________________\n",
            "dense_8 (Dense)              (None, 16)                16400     \n",
            "_________________________________________________________________\n",
            "dense_9 (Dense)              (None, 10)                170       \n",
            "=================================================================\n",
            "Total params: 16,730\n",
            "Trainable params: 16,730\n",
            "Non-trainable params: 0\n",
            "_________________________________________________________________\n"
          ],
          "name": "stdout"
        }
      ]
    },
    {
      "cell_type": "markdown",
      "metadata": {
        "id": "8C-VYXqa3E0J"
      },
      "source": [
        "***\n",
        "<a id=\"coding_tutorial_3\"></a>\n",
        "## The compile method"
      ]
    },
    {
      "cell_type": "markdown",
      "metadata": {
        "id": "DDqaSzHT3E0K"
      },
      "source": [
        "#### Compile the model"
      ]
    },
    {
      "cell_type": "code",
      "metadata": {
        "id": "JatIXZQU3E0L"
      },
      "source": [
        "# Define the model optimizer, loss function and metrics\n",
        "opt = tf.keras.optimizers.Adam(learning_rate=0.005)\n",
        "\n",
        "model.compile(optimizer=opt,\n",
        "              loss='sparse_categorical_crossentropy',\n",
        "              metrics=['accuracy'])\n"
      ],
      "execution_count": null,
      "outputs": []
    },
    {
      "cell_type": "code",
      "metadata": {
        "id": "sP1PRse_3E0M",
        "colab": {
          "base_uri": "https://localhost:8080/"
        },
        "outputId": "392aee68-9a29-44cd-997d-9abdee156f4a"
      },
      "source": [
        "# Print the resulting model attributes\n",
        "print(model.optimizer)\n",
        "print(model.optimizer.lr)\n",
        "print(model.loss)"
      ],
      "execution_count": null,
      "outputs": [
        {
          "output_type": "stream",
          "text": [
            "<tensorflow.python.keras.optimizer_v2.adam.Adam object at 0x7fbf893ef410>\n",
            "<tf.Variable 'learning_rate:0' shape=() dtype=float32, numpy=0.005>\n",
            "sparse_categorical_crossentropy\n"
          ],
          "name": "stdout"
        }
      ]
    },
    {
      "cell_type": "markdown",
      "metadata": {
        "id": "WR06f-UP3E0M"
      },
      "source": [
        "***\n",
        "<a id=\"coding_tutorial_4\"></a>\n",
        "## The fit method"
      ]
    },
    {
      "cell_type": "code",
      "metadata": {
        "id": "uNK-QMVD3E0N"
      },
      "source": [
        "from tensorflow.keras.preprocessing import image\n",
        "import matplotlib.pyplot as plt\n",
        "import numpy as np\n",
        "import pandas as pd"
      ],
      "execution_count": null,
      "outputs": []
    },
    {
      "cell_type": "markdown",
      "metadata": {
        "id": "CQGMw1OF3E0O"
      },
      "source": [
        "#### Load the data"
      ]
    },
    {
      "cell_type": "code",
      "metadata": {
        "id": "--B8DyYz3E0P",
        "colab": {
          "base_uri": "https://localhost:8080/"
        },
        "outputId": "fd7a7bf8-16d7-42d4-8d56-d85407c190f7"
      },
      "source": [
        "# Load the Fashion-MNIST dataset\n",
        "\n",
        "fashion_mnist_data = tf.keras.datasets.fashion_mnist\n",
        "(train_images, train_labels), (test_images, test_labels) = fashion_mnist_data.load_data()"
      ],
      "execution_count": null,
      "outputs": [
        {
          "output_type": "stream",
          "text": [
            "Downloading data from https://storage.googleapis.com/tensorflow/tf-keras-datasets/train-labels-idx1-ubyte.gz\n",
            "32768/29515 [=================================] - 0s 0us/step\n",
            "Downloading data from https://storage.googleapis.com/tensorflow/tf-keras-datasets/train-images-idx3-ubyte.gz\n",
            "26427392/26421880 [==============================] - 0s 0us/step\n",
            "Downloading data from https://storage.googleapis.com/tensorflow/tf-keras-datasets/t10k-labels-idx1-ubyte.gz\n",
            "8192/5148 [===============================================] - 0s 0us/step\n",
            "Downloading data from https://storage.googleapis.com/tensorflow/tf-keras-datasets/t10k-images-idx3-ubyte.gz\n",
            "4423680/4422102 [==============================] - 0s 0us/step\n"
          ],
          "name": "stdout"
        }
      ]
    },
    {
      "cell_type": "code",
      "metadata": {
        "id": "IZWv986f3E0P",
        "colab": {
          "base_uri": "https://localhost:8080/"
        },
        "outputId": "36fa11a0-dc8c-426c-dabe-2b5ed9a83cde"
      },
      "source": [
        "# Print the shape of the training data\n",
        "\n",
        "train_images.shape , test_images.shape"
      ],
      "execution_count": null,
      "outputs": [
        {
          "output_type": "execute_result",
          "data": {
            "text/plain": [
              "((60000, 28, 28), (10000, 28, 28))"
            ]
          },
          "metadata": {
            "tags": []
          },
          "execution_count": 30
        }
      ]
    },
    {
      "cell_type": "code",
      "metadata": {
        "id": "Coui3TAIFU66",
        "colab": {
          "base_uri": "https://localhost:8080/"
        },
        "outputId": "b4c189d0-98c5-4304-a387-402ff93f3433"
      },
      "source": [
        "test_labels.shape , train_labels.shape"
      ],
      "execution_count": null,
      "outputs": [
        {
          "output_type": "execute_result",
          "data": {
            "text/plain": [
              "((10000,), (60000,))"
            ]
          },
          "metadata": {
            "tags": []
          },
          "execution_count": 31
        }
      ]
    },
    {
      "cell_type": "code",
      "metadata": {
        "id": "is0w_-u23E0Q"
      },
      "source": [
        "# Define the labels\n",
        "\n",
        "labels = [\n",
        "    'T-shirt/top',\n",
        "    'Trouser',\n",
        "    'Pullover',\n",
        "    'Dress',\n",
        "    'Coat',\n",
        "    'Sandal',\n",
        "    'Shirt',\n",
        "    'Sneaker',\n",
        "    'Bag',\n",
        "    'Ankle boot'\n",
        "]"
      ],
      "execution_count": null,
      "outputs": []
    },
    {
      "cell_type": "code",
      "metadata": {
        "id": "dU_0hWSxFjd9",
        "colab": {
          "base_uri": "https://localhost:8080/"
        },
        "outputId": "6456acde-0e79-4ec5-d94a-9734fa40815e"
      },
      "source": [
        "print(train_labels[8]) #Labels are provided as integers so we are using sparse_categorical_crossentropy loss."
      ],
      "execution_count": null,
      "outputs": [
        {
          "output_type": "stream",
          "text": [
            "5\n"
          ],
          "name": "stdout"
        }
      ]
    },
    {
      "cell_type": "code",
      "metadata": {
        "id": "bJJa5qAw3E0R"
      },
      "source": [
        "# Rescale the image values so that they lie in between 0 and 1.\n",
        "\n",
        "train_images = train_images / 255.\n",
        "test_images = test_images / 255."
      ],
      "execution_count": null,
      "outputs": []
    },
    {
      "cell_type": "code",
      "metadata": {
        "id": "sBJHUcDg3E0S",
        "colab": {
          "base_uri": "https://localhost:8080/",
          "height": 282
        },
        "outputId": "2dd3c06d-842a-46e2-b590-a1b74436f801"
      },
      "source": [
        "# Display one of the images\n",
        "i=0\n",
        "img = train_images[i,:,:]\n",
        "plt.imshow(img)\n",
        "plt.show()\n",
        "x = train_labels[i]\n",
        "print(labels[x])"
      ],
      "execution_count": null,
      "outputs": [
        {
          "output_type": "display_data",
          "data": {
            "image/png": "[encoded data removed]",
            "text/plain": [
              "<Figure size 432x288 with 1 Axes>"
            ]
          },
          "metadata": {
            "tags": [],
            "needs_background": "light"
          }
        },
        {
          "output_type": "stream",
          "text": [
            "Ankle boot\n"
          ],
          "name": "stdout"
        }
      ]
    },
    {
      "cell_type": "markdown",
      "metadata": {
        "id": "OEFyK6Mm3E0T"
      },
      "source": [
        "#### Fit the model"
      ]
    },
    {
      "cell_type": "code",
      "metadata": {
        "id": "rZp3RnI23E0T",
        "colab": {
          "base_uri": "https://localhost:8080/"
        },
        "outputId": "c3fb2052-2713-4639-c39c-db0a07ff3477"
      },
      "source": [
        "# Fit the model\n",
        "history = model.fit(train_images[...,np.newaxis],train_labels,epochs=10,batch_size=512)\n"
      ],
      "execution_count": null,
      "outputs": [
        {
          "output_type": "stream",
          "text": [
            "Epoch 1/10\n",
            "118/118 [==============================] - 13s 110ms/step - loss: 0.3898 - accuracy: 0.8624\n",
            "Epoch 2/10\n",
            "118/118 [==============================] - 13s 108ms/step - loss: 0.3584 - accuracy: 0.8736\n",
            "Epoch 3/10\n",
            "118/118 [==============================] - 13s 108ms/step - loss: 0.3360 - accuracy: 0.8818\n",
            "Epoch 4/10\n",
            "118/118 [==============================] - 13s 108ms/step - loss: 0.3257 - accuracy: 0.8845\n",
            "Epoch 5/10\n",
            "118/118 [==============================] - 13s 108ms/step - loss: 0.3105 - accuracy: 0.8891\n",
            "Epoch 6/10\n",
            "118/118 [==============================] - 13s 109ms/step - loss: 0.3020 - accuracy: 0.8922\n",
            "Epoch 7/10\n",
            "118/118 [==============================] - 13s 109ms/step - loss: 0.2933 - accuracy: 0.8960\n",
            "Epoch 8/10\n",
            "118/118 [==============================] - 13s 108ms/step - loss: 0.2895 - accuracy: 0.8959\n",
            "Epoch 9/10\n",
            "118/118 [==============================] - 13s 108ms/step - loss: 0.2824 - accuracy: 0.8990\n",
            "Epoch 10/10\n",
            "118/118 [==============================] - 13s 107ms/step - loss: 0.2804 - accuracy: 0.9002\n"
          ],
          "name": "stdout"
        }
      ]
    },
    {
      "cell_type": "markdown",
      "metadata": {
        "id": "CT3XXzrJ3E0U"
      },
      "source": [
        "#### Plot training history"
      ]
    },
    {
      "cell_type": "code",
      "metadata": {
        "id": "VfP8cv4n3E0U",
        "colab": {
          "base_uri": "https://localhost:8080/",
          "height": 359
        },
        "outputId": "7197a18c-f23a-43fa-c7b3-b25bf44fd0ca"
      },
      "source": [
        "# Load the history into a pandas Dataframe\n",
        "df =pd.DataFrame(history.history)\n",
        "df"
      ],
      "execution_count": null,
      "outputs": [
        {
          "output_type": "execute_result",
          "data": {
            "text/html": [
              "<div>\n",
              "<style scoped>\n",
              "    .dataframe tbody tr th:only-of-type {\n",
              "        vertical-align: middle;\n",
              "    }\n",
              "\n",
              "    .dataframe tbody tr th {\n",
              "        vertical-align: top;\n",
              "    }\n",
              "\n",
              "    .dataframe thead th {\n",
              "        text-align: right;\n",
              "    }\n",
              "</style>\n",
              "<table border=\"1\" class=\"dataframe\">\n",
              "  <thead>\n",
              "    <tr style=\"text-align: right;\">\n",
              "      <th></th>\n",
              "      <th>loss</th>\n",
              "      <th>accuracy</th>\n",
              "    </tr>\n",
              "  </thead>\n",
              "  <tbody>\n",
              "    <tr>\n",
              "      <th>0</th>\n",
              "      <td>0.389847</td>\n",
              "      <td>0.862400</td>\n",
              "    </tr>\n",
              "    <tr>\n",
              "      <th>1</th>\n",
              "      <td>0.358373</td>\n",
              "      <td>0.873567</td>\n",
              "    </tr>\n",
              "    <tr>\n",
              "      <th>2</th>\n",
              "      <td>0.336016</td>\n",
              "      <td>0.881767</td>\n",
              "    </tr>\n",
              "    <tr>\n",
              "      <th>3</th>\n",
              "      <td>0.325683</td>\n",
              "      <td>0.884500</td>\n",
              "    </tr>\n",
              "    <tr>\n",
              "      <th>4</th>\n",
              "      <td>0.310453</td>\n",
              "      <td>0.889100</td>\n",
              "    </tr>\n",
              "    <tr>\n",
              "      <th>5</th>\n",
              "      <td>0.301961</td>\n",
              "      <td>0.892233</td>\n",
              "    </tr>\n",
              "    <tr>\n",
              "      <th>6</th>\n",
              "      <td>0.293342</td>\n",
              "      <td>0.896017</td>\n",
              "    </tr>\n",
              "    <tr>\n",
              "      <th>7</th>\n",
              "      <td>0.289468</td>\n",
              "      <td>0.895883</td>\n",
              "    </tr>\n",
              "    <tr>\n",
              "      <th>8</th>\n",
              "      <td>0.282445</td>\n",
              "      <td>0.899000</td>\n",
              "    </tr>\n",
              "    <tr>\n",
              "      <th>9</th>\n",
              "      <td>0.280410</td>\n",
              "      <td>0.900167</td>\n",
              "    </tr>\n",
              "  </tbody>\n",
              "</table>\n",
              "</div>"
            ],
            "text/plain": [
              "       loss  accuracy\n",
              "0  0.389847  0.862400\n",
              "1  0.358373  0.873567\n",
              "2  0.336016  0.881767\n",
              "3  0.325683  0.884500\n",
              "4  0.310453  0.889100\n",
              "5  0.301961  0.892233\n",
              "6  0.293342  0.896017\n",
              "7  0.289468  0.895883\n",
              "8  0.282445  0.899000\n",
              "9  0.280410  0.900167"
            ]
          },
          "metadata": {
            "tags": []
          },
          "execution_count": 44
        }
      ]
    },
    {
      "cell_type": "code",
      "metadata": {
        "id": "9Hls1i3a3E0V",
        "colab": {
          "base_uri": "https://localhost:8080/",
          "height": 312
        },
        "outputId": "09298311-66f1-4d98-8d5b-ca9b36d8fd04"
      },
      "source": [
        "# Make a plot for the loss\n",
        "loss_plot = df.plot(y=\"loss\", title = \"Loss vs Epochs\", legend=False)\n",
        "loss_plot.set(xlabel=\"Epochs\",ylabel=\"Loss\")\n"
      ],
      "execution_count": null,
      "outputs": [
        {
          "output_type": "execute_result",
          "data": {
            "text/plain": [
              "[Text(0, 0.5, 'Loss'), Text(0.5, 0, 'Epochs')]"
            ]
          },
          "metadata": {
            "tags": []
          },
          "execution_count": 46
        },
        {
          "output_type": "display_data",
          "data": {
            "image/png": "[encoded data removed]",
            "text/plain": [
              "<Figure size 432x288 with 1 Axes>"
            ]
          },
          "metadata": {
            "tags": [],
            "needs_background": "light"
          }
        }
      ]
    },
    {
      "cell_type": "code",
      "metadata": {
        "id": "f-dC19wc3E0V",
        "colab": {
          "base_uri": "https://localhost:8080/",
          "height": 312
        },
        "outputId": "cab9f41b-d041-4bff-fdd4-c8dbbf4cea84"
      },
      "source": [
        "# Make a plot for the accuracy\n",
        "\n",
        "acc_plot = df.plot(y=\"accuracy\", title = \"Accuracy vs Epochs\", legend=False)\n",
        "acc_plot.set(xlabel=\"Epochs\",ylabel=\"Accuracy\")"
      ],
      "execution_count": null,
      "outputs": [
        {
          "output_type": "execute_result",
          "data": {
            "text/plain": [
              "[Text(0, 0.5, 'Accuracy'), Text(0.5, 0, 'Epochs')]"
            ]
          },
          "metadata": {
            "tags": []
          },
          "execution_count": 47
        },
        {
          "output_type": "display_data",
          "data": {
            "image/png": "[encoded data removed]",
            "text/plain": [
              "<Figure size 432x288 with 1 Axes>"
            ]
          },
          "metadata": {
            "tags": [],
            "needs_background": "light"
          }
        }
      ]
    },
    {
      "cell_type": "markdown",
      "metadata": {
        "id": "s-SvVNqD3E0W"
      },
      "source": [
        "***\n",
        "<a id=\"coding_tutorial_5\"></a>\n",
        "## The evaluate and predict methods"
      ]
    },
    {
      "cell_type": "code",
      "metadata": {
        "id": "b5jdAZFl3E0W"
      },
      "source": [
        "import matplotlib.pyplot as plt\n",
        "import numpy as np"
      ],
      "execution_count": null,
      "outputs": []
    },
    {
      "cell_type": "markdown",
      "metadata": {
        "id": "WJhbzAeV3E0X"
      },
      "source": [
        "#### Evaluate the model on the test set"
      ]
    },
    {
      "cell_type": "code",
      "metadata": {
        "id": "AtLqARof3E0X",
        "colab": {
          "base_uri": "https://localhost:8080/"
        },
        "outputId": "48fd409e-6012-4eb7-f4e0-3d9651364dfb"
      },
      "source": [
        "# Evaluate the model\n",
        "\n",
        "test_loss , test_acc = model.evaluate(test_images[...,np.newaxis],test_labels,verbose=2)"
      ],
      "execution_count": null,
      "outputs": [
        {
          "output_type": "stream",
          "text": [
            "313/313 - 1s - loss: 0.3108 - accuracy: 0.8904\n"
          ],
          "name": "stdout"
        }
      ]
    },
    {
      "cell_type": "markdown",
      "metadata": {
        "id": "2LKkr2Tq3E0X"
      },
      "source": [
        "#### Make predictions from the model"
      ]
    },
    {
      "cell_type": "code",
      "metadata": {
        "id": "G7HzbnGW3E0Y",
        "colab": {
          "base_uri": "https://localhost:8080/",
          "height": 282
        },
        "outputId": "1f0d409f-7b4e-47dd-bd1e-d94edadd8924"
      },
      "source": [
        "# Choose a random test image\n",
        "\n",
        "random_inx = np.random.choice(test_images.shape[0])\n",
        "\n",
        "test_image = test_images[random_inx]\n",
        "plt.imshow(test_image)\n",
        "plt.show()\n",
        "print(f\"Label: {labels[test_labels[random_inx]]}\")"
      ],
      "execution_count": null,
      "outputs": [
        {
          "output_type": "display_data",
          "data": {
            "image/png": "[encoded data removed]",
            "text/plain": [
              "<Figure size 432x288 with 1 Axes>"
            ]
          },
          "metadata": {
            "tags": [],
            "needs_background": "light"
          }
        },
        {
          "output_type": "stream",
          "text": [
            "Label: Sneaker\n"
          ],
          "name": "stdout"
        }
      ]
    },
    {
      "cell_type": "code",
      "metadata": {
        "id": "uBgxci0e3E0Y",
        "colab": {
          "base_uri": "https://localhost:8080/"
        },
        "outputId": "9638c66e-e8bb-48ee-979f-789489e4f65c"
      },
      "source": [
        "# Get the model predictions\n",
        "predictions = model.predict(test_image[np.newaxis,...,np.newaxis])\n",
        "x = np.argmax(predictions)\n",
        "print(labels[x])"
      ],
      "execution_count": null,
      "outputs": [
        {
          "output_type": "stream",
          "text": [
            "Sneaker\n"
          ],
          "name": "stdout"
        }
      ]
    },
    {
      "cell_type": "code",
      "metadata": {
        "id": "09NmPF54LNn-"
      },
      "source": [
        ""
      ],
      "execution_count": null,
      "outputs": []
    }
  ]
}